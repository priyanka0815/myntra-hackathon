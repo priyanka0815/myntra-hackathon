{
 "cells": [
  {
   "cell_type": "code",
   "execution_count": null,
   "id": "aa8adbc1-0daa-4115-9410-d32174e75d3a",
   "metadata": {},
   "outputs": [],
   "source": [
    "import numpy as np\n",
    "import cv2\n",
    "import os\n",
    "from sklearn.model_selection import train_test_split\n",
    "from sklearn.neighbors import KNeighborsClassifier\n",
    "from sklearn.metrics import accuracy_score\n"
   ]
  },
  {
   "cell_type": "code",
   "execution_count": null,
   "id": "9b67cc13-87dd-446c-89cf-5c659bfbba72",
   "metadata": {},
   "outputs": [],
   "source": [
    "def load_images_from_folder(folder, label):\n",
    "    images = []\n",
    "    labels = []\n",
    "    for filename in os.listdir(folder):\n",
    "        img = cv2.imread(os.path.join(folder, filename))\n",
    "        if img is not None:\n",
    "            img = cv2.resize(img, (64, 64)) \n",
    "            labels.append(label)\n",
    "    return images, labels\n",
    "\n",
    "categories = ['dark', 'light', 'mid-dark', 'mid-light']\n",
    "data = []\n",
    "labels = []\n",
    "\n",
    "for i, category in enumerate(categories):\n",
    "    folder = f'./skintones/{category}'  \n",
    "    images, category_labels = load_images_from_folder(folder, i)\n",
    "    data.extend(images)\n",
    "    labels.extend(category_labels)\n",
    "\n",
    "data = np.array(data)\n",
    "labels = np.array(labels)"
   ]
  },
  {
   "cell_type": "code",
   "execution_count": null,
   "id": "ccb46ade-36f1-4753-a202-15d12d6a4b32",
   "metadata": {},
   "outputs": [],
   "source": [
    "def extract_skin_color_features(images):\n",
    "    features = []\n",
    "    for img in images:\n",
    "        img_hsv = cv2.cvtColor(img, cv2.COLOR_BGR2HSV)\n",
    "        lower1 = np.array([0, 30, 60], dtype=np.uint8)\n",
    "        upper1 = np.array([20, 150, 255], dtype=np.uint8)\n",
    "        lower2 = np.array([160, 30, 60], dtype=np.uint8)\n",
    "        upper2 = np.array([180, 150, 255], dtype=np.uint8)\n",
    "        mask1 = cv2.inRange(img_hsv, lower1, upper1)\n",
    "        mask2 = cv2.inRange(img_hsv, lower2, upper2)\n",
    "        mask = cv2.bitwise_or(mask1, mask2)\n",
    "        skin = cv2.bitwise_and(img, img, mask=mask)\n",
    "        h_mean, h_std = np.mean(skin[:, :, 0]), np.std(skin[:, :, 0])\n",
    "        s_mean, s_std = np.mean(skin[:, :, 1]), np.std(skin[:, :, 1])\n",
    "        v_mean, v_std = np.mean(skin[:, :, 2]), np.std(skin[:, :, 2])\n",
    "        features.append([h_mean, h_std, s_mean, s_std, v_mean, v_std])\n",
    "    return np.array(features)\n",
    "\n",
    "\n",
    "features = extract_skin_color_features(data)\n",
    "X_train, X_test, y_train, y_test = train_test_split(features, labels, test_size=0.2, random_state=42)\n",
    "knn = KNeighborsClassifier(n_neighbors=5)\n",
    "knn.fit(X_train, y_train)\n",
    "y_pred = knn.predict(X_test)\n",
    "accuracy = accuracy_score(y_test, y_pred)\n",
    "print(f'Test Accuracy: {accuracy:.2f}')"
   ]
  },
  {
   "cell_type": "code",
   "execution_count": null,
   "id": "87c494ce-3119-4555-9e84-99122233af31",
   "metadata": {},
   "outputs": [],
   "source": [
    "import joblib\n",
    "joblib.dump(knn, 'knn_skin_tone_model.pkl')\n",
    "print(\"Model saved as 'knn_skin_tone_model.pkl'.\")"
   ]
  },
  {
   "cell_type": "code",
   "execution_count": null,
   "id": "4206264f-8191-4ea8-8b1c-ea268213348d",
   "metadata": {},
   "outputs": [],
   "source": [
    "def predict_skin_tone(image_path):\n",
    "    img = cv2.imread(image_path)\n",
    "    img = cv2.resize(img, (64, 64))\n",
    "    \n",
    "    feature = extract_skin_color_features([img])\n",
    "    prediction = knn.predict(feature)\n",
    "    return prediction[0]\n",
    "\n",
    "image_path = './testimg.jpg' \n",
    "predicted_skin_tone = predict_skin_tone(image_path)\n",
    "print(f'Predicted Skin Tone: {categories[predicted_skin_tone]}')"
   ]
  },
  {
   "cell_type": "code",
   "execution_count": null,
   "id": "3e501704-86be-433e-b158-e60424607e83",
   "metadata": {},
   "outputs": [],
   "source": []
  }
 ],
 "metadata": {
  "kernelspec": {
   "display_name": "Python 3 (ipykernel)",
   "language": "python",
   "name": "python3"
  },
  "language_info": {
   "codemirror_mode": {
    "name": "ipython",
    "version": 3
   },
   "file_extension": ".py",
   "mimetype": "text/x-python",
   "name": "python",
   "nbconvert_exporter": "python",
   "pygments_lexer": "ipython3",
   "version": "3.8.10"
  }
 },
 "nbformat": 4,
 "nbformat_minor": 5
}
